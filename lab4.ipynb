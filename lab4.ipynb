{
 "cells": [
  {
   "cell_type": "markdown",
   "id": "fdeff819",
   "metadata": {},
   "source": [
    "# Sinh Viên thực hiện Lab 4 ở Đây"
   ]
  },
  {
   "cell_type": "markdown",
   "id": "acc5d7dc",
   "metadata": {},
   "source": [
    "## Lab 1 - Bài 1"
   ]
  },
  {
   "cell_type": "code",
   "execution_count": null,
   "id": "001e0507",
   "metadata": {},
   "outputs": [],
   "source": [
    "# Code lab 4 bài 1 ở đây\n",
    "def tinh_tien_nuoc(so_nuoc):\n",
    "    gia_ban_nuoc = (7500,8800,12000,24000)\n",
    "    if so_nuoc <= 10 and so_nuoc >= 0:\n",
    "        tien_nuoc_thang = so_nuoc*gia_ban_nuoc[0]\n",
    "    elif so_nuoc <= 20:\n",
    "        tinh_nuoc_thang = 10 * gia_ban_nuoc[0] * (so_nuoc - 10) * gia_ban_nuoc[1]\n",
    "    elif so_nuoc <= 30:\n",
    "        tinh_nuoc_thang = 10 * gia_ban_nuoc[0] * 10* gia_ban_nuoc[1] + (so_nuoc - 20)* gia_ban_nuoc[2]\n",
    "    elif so_nuoc <= 40:\n",
    "         tinh_nuoc_thang = 10 * gia_ban_nuoc[0] + 10* gia_ban_nuoc[1] + 10 *gia_ban_nuoc[2] +(so_nuoc -30)* gia_ban_nuoc[3]\n",
    "         return tien_nuoc_thang\n",
    "    "
   ]
  },
  {
   "cell_type": "markdown",
   "id": "c0835310",
   "metadata": {},
   "source": [
    "## Lab 4 - Bài 2"
   ]
  },
  {
   "cell_type": "code",
   "execution_count": 12,
   "id": "fa9cb39f",
   "metadata": {},
   "outputs": [],
   "source": [
    "# Code lab 4  bài 2 ở đây\n",
    "def tinh_nguyen_lieu(s1_bdx, s1_btc, s1_db):\n",
    "    banh_dau_xanh = {\"đường\":0.04, \"đậu\":0.07}\n",
    "    banh_thuc_cam = {\"đường\":0.06, \"đậu\": 0}\n",
    "    banh_deo = {\"đường\":0.05, \"đậu\":0.02}\n",
    "    duong_hop_banh = s1_bdx*banh_dau_xanh[\"đường\"] + s1_btc*banh_thuc_cam [\"đường\"] + s1_db*banh_deo[\"đường\"]\n",
    "    dau_hop_banh = s1_bdx*banh_dau_xanh[\"đậu\"] + s1_btc*banh_thuc_cam [\"đậu\"] + s1_db*banh_deo[\"đậu\"]\n",
    "    nguyen_lieu [\"đường\"]= duong_hop_banh\n",
    "    nguyen_lieu [\"dầu\"]= dau_hop_banh\n",
    "    return nguyen_lieu\n",
    "\n",
    "\n"
   ]
  },
  {
   "cell_type": "markdown",
   "id": "0f2483fe",
   "metadata": {},
   "source": [
    "## Lab 4 - Bài 3"
   ]
  },
  {
   "cell_type": "code",
   "execution_count": null,
   "id": "7034990b",
   "metadata": {},
   "outputs": [],
   "source": [
    "# Code lab 4  bài 3 ở đây"
   ]
  },
  {
   "cell_type": "markdown",
   "id": "d36ea3d3",
   "metadata": {},
   "source": [
    "## Lab 4 - Bài 4"
   ]
  },
  {
   "cell_type": "code",
   "execution_count": null,
   "id": "4c707ec1",
   "metadata": {},
   "outputs": [],
   "source": [
    "# code lab 4 bài 4 ở đây"
   ]
  },
  {
   "cell_type": "markdown",
   "id": "e2b41d4a",
   "metadata": {},
   "source": [
    "## Lab 4 - Bài 5: bài tập làm thêm"
   ]
  },
  {
   "cell_type": "code",
   "execution_count": null,
   "id": "0e0172f7",
   "metadata": {},
   "outputs": [],
   "source": [
    "# code lab 4  bài làm thêm ở đây "
   ]
  }
 ],
 "metadata": {
  "kernelspec": {
   "display_name": "Python 3",
   "language": "python",
   "name": "python3"
  },
  "language_info": {
   "codemirror_mode": {
    "name": "ipython",
    "version": 3
   },
   "file_extension": ".py",
   "mimetype": "text/x-python",
   "name": "python",
   "nbconvert_exporter": "python",
   "pygments_lexer": "ipython3",
   "version": "3.13.7"
  }
 },
 "nbformat": 4,
 "nbformat_minor": 5
}
