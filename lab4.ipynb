{
 "cells": [
  {
   "cell_type": "markdown",
   "id": "fdeff819",
   "metadata": {},
   "source": [
    "# Sinh Viên thực hiện Lab 4 ở Đây"
   ]
  },
  {
   "cell_type": "markdown",
   "id": "acc5d7dc",
   "metadata": {},
   "source": [
    "## Lab 1 - Bài 1"
   ]
  },
  {
   "cell_type": "code",
   "execution_count": null,
   "id": "001e0507",
   "metadata": {},
   "outputs": [],
   "source": [
    "# Code lab 4 bài 1 ở đây\n"
   ]
  },
  {
   "cell_type": "markdown",
   "id": "c0835310",
   "metadata": {},
   "source": [
    "## Lab 4 - Bài 2"
   ]
  },
  {
   "cell_type": "code",
   "execution_count": null,
   "id": "82c6c3cb",
   "metadata": {},
   "outputs": [],
   "source": []
  },
  {
   "cell_type": "code",
   "execution_count": null,
   "id": "fa9cb39f",
   "metadata": {},
   "outputs": [],
   "source": [
    "# Code lab 4  bài 2 ở đây\n",
    "\n",
    "\n"
   ]
  },
  {
   "cell_type": "markdown",
   "id": "0f2483fe",
   "metadata": {},
   "source": [
    "## Lab 4 - Bài 3"
   ]
  },
  {
   "cell_type": "code",
   "execution_count": 1,
   "id": "7034990b",
   "metadata": {},
   "outputs": [
    {
     "name": "stdout",
     "output_type": "stream",
     "text": [
      "====================MENU====================\n",
      "1 : Tính tiền nước\n",
      "2 : Tính nguyên liệu\n",
      "3 : Thoát\n",
      "================================================================\n",
      "Lựa chọn chức năng chương trình: \n",
      "Tiền nước: None\n",
      "====================MENU====================\n",
      "1 : Tính tiền nước\n",
      "2 : Tính nguyên liệu\n",
      "3 : Thoát\n",
      "================================================================\n",
      "Lựa chọn chức năng chương trình: \n",
      "kết thúc chương trình\n"
     ]
    }
   ],
   "source": [
    "# Code lab 4  bài 3 ở đây\n",
    "import Lab4\n",
    "menu = {\n",
    "    \"1\": \"Tính tiền nước\",\n",
    "    \"2\": \"Tính nguyên liệu\",\n",
    "    \"3\": \"Thoát\"\n",
    "}\n",
    "while True:\n",
    "    print(\"==\"*10 + \"MENU\" + \"==\"*10)\n",
    "    for k,v in menu.items():\n",
    "        print(f\"{k} : {v}\")\n",
    "    print(\"===\"*10 + \"====\" + \"===\"*10)\n",
    "    print(\"Lựa chọn chức năng chương trình: \")\n",
    "    lua_chon = input(\"Nhập chức năng chương trình:\")\n",
    "    if lua_chon == \"3\":\n",
    "        print(\"kết thúc chương trình\")\n",
    "        break\n",
    "    elif lua_chon == \"1\":\n",
    "        so_nuoc = float(input(\"Số nước: \"))\n",
    "        print(f\"Tiền nước: {Lab4.tinh_tien_nuoc(so_nuoc)}\")\n",
    "    elif lua_chon == \"2\":\n",
    "        sl_bdx = float(input(\"Số lượng bánh đậu xanh: \"))\n",
    "        sl_btc = float(input(\"Số lượng bánh thập cẩm: \"))\n",
    "        sl_bd = float(input(\"Số lượng bánh dẻo: \"))\n",
    "        print(f\"Nguyên liệu: {Lab4.tinh_nguyen_lieu(sl_bdx, sl_btc, sl_bd)}\")\n",
    "    else:\n",
    "        print(\"Chức năng không hợp lệ, vui lòng chọn lại\")"
   ]
  },
  {
   "cell_type": "markdown",
   "id": "d36ea3d3",
   "metadata": {},
   "source": [
    "## Lab 4 - Bài 4"
   ]
  },
  {
   "cell_type": "code",
   "execution_count": null,
   "id": "4c707ec1",
   "metadata": {},
   "outputs": [],
   "source": [
    "# code lab 4 bài 4 ở đây"
   ]
  },
  {
   "cell_type": "markdown",
   "id": "e2b41d4a",
   "metadata": {},
   "source": [
    "## Lab 4 - Bài 5: bài tập làm thêm"
   ]
  },
  {
   "cell_type": "code",
   "execution_count": null,
   "id": "0e0172f7",
   "metadata": {},
   "outputs": [],
   "source": [
    "# code lab 4  bài làm thêm ở đây "
   ]
  }
 ],
 "metadata": {
  "kernelspec": {
   "display_name": "Python 3",
   "language": "python",
   "name": "python3"
  },
  "language_info": {
   "codemirror_mode": {
    "name": "ipython",
    "version": 3
   },
   "file_extension": ".py",
   "mimetype": "text/x-python",
   "name": "python",
   "nbconvert_exporter": "python",
   "pygments_lexer": "ipython3",
   "version": "3.13.7"
  }
 },
 "nbformat": 4,
 "nbformat_minor": 5
}
