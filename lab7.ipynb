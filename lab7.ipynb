{
 "cells": [
  {
   "cell_type": "markdown",
   "id": "fdeff819",
   "metadata": {},
   "source": [
    "# Sinh Viên thực hiện Lab 7 ở Đây"
   ]
  },
  {
   "cell_type": "markdown",
   "id": "acc5d7dc",
   "metadata": {},
   "source": [
    "## Lab 7 - Bài 1"
   ]
  },
  {
   "cell_type": "code",
   "execution_count": 2,
   "id": "001e0507",
   "metadata": {},
   "outputs": [
    {
     "name": "stdout",
     "output_type": "stream",
     "text": [
      "Tự nguyện\n",
      "Trương Quốc Khánh\n",
      "Nếu là chim, tôi sẽ là loài bồ câu trắng\n",
      "Nếu là hoa, tôi sẽ là một đóa hướng dương\n",
      "Nếu là mây, tôi sẽ là một vầng mây ấm\n",
      "Là người, tôi sẽ chết cho quê hương.\n",
      "\n",
      "Là chim, tôi sẽ cất cao đôi cánh mềm\n",
      "Từ nam ra ngoài bắc báo tin nối liền\n",
      "Là hoa, tôi nở tình yêu ban sớm\n",
      "Cùng muôn trái tim ngất ngây hoà bình.\n",
      "\n",
      "Là mây, theo làn gió tung bay khắp trời\n",
      "Nghìn xưa oai hùng đó tôi xin tiếp lời\n",
      "Là người, xin một lần khi nằm xuống\n",
      "Nhìn anh em đứng lên phất cao ngọn cờ.\n",
      "Tự nguyện\n",
      "\n",
      "Trương Quốc Khánh\n",
      "\n"
     ]
    }
   ],
   "source": [
    "\n",
    "# Code lab 7 bài 1 ở đây\n",
    "file = open(\"Resource.txt\",\"r\",encoding=\"utf-8\")\n",
    "noidung = file.read()\n",
    "print(noidung)\n",
    "file = open(\"Resource.txt\",\"r\",encoding=\"utf-8\")\n",
    "dong1=file.readline()\n",
    "dong2=file.readline()\n",
    "print(dong1)\n",
    "print(dong2)\n",
    "file.close()"
   ]
  },
  {
   "cell_type": "code",
   "execution_count": 4,
   "id": "77a1572b",
   "metadata": {},
   "outputs": [
    {
     "name": "stdout",
     "output_type": "stream",
     "text": [
      "Tự nguyện\n",
      "\n"
     ]
    }
   ],
   "source": [
    "file = open(\"Resource.txt\",\"r\",encoding=\"utf-8\")\n",
    "dong = file.readline()\n",
    "print(dong)"
   ]
  },
  {
   "cell_type": "code",
   "execution_count": 6,
   "id": "885bd4ac",
   "metadata": {},
   "outputs": [
    {
     "name": "stdout",
     "output_type": "stream",
     "text": [
      "Tự nguyện\n",
      "Trương Quốc Khánh\n",
      "Nếu là chim, tôi sẽ là loài bồ câu trắng\n",
      "Nếu là hoa, tôi sẽ là một đóa hướng dương\n",
      "Nếu là mây, tôi sẽ là một vầng mây ấm\n",
      "Là người, tôi sẽ chết cho quê hương.\n",
      "\n",
      "Là chim, tôi sẽ cất cao đôi cánh mềm\n",
      "Từ nam ra ngoài bắc báo tin nối liền\n",
      "Là hoa, tôi nở tình yêu ban sớm\n",
      "Cùng muôn trái tim ngất ngây hoà bình.\n",
      "\n",
      "Là mây, theo làn gió tung bay khắp trời\n",
      "Nghìn xưa oai hùng đó tôi xin tiếp lời\n",
      "Là người, xin một lần khi nằm xuống\n",
      "Nhìn anh em đứng lên phất cao ngọn cờ.\n"
     ]
    }
   ],
   "source": [
    "with open(\"Resource.txt\", \"r\", encoding=\"utf-8\") as file:\n",
    "    noidung = file.read()\n",
    "    print(noidung)"
   ]
  },
  {
   "cell_type": "markdown",
   "id": "c0835310",
   "metadata": {},
   "source": [
    "## Lab 7 - Bài 2"
   ]
  },
  {
   "cell_type": "code",
   "execution_count": 4,
   "id": "fa9cb39f",
   "metadata": {},
   "outputs": [],
   "source": [
    "# Code lab 7  bài 2 ở đây\n",
    "with open(\"Resource.txt\", \"r\", encoding=\"utf-8\") as f:\n",
    "    noi_dung = f.read()\n",
    "noi_dung = \"\"\"… \n",
    "Nếu một mai tôi có bay lên trời \n",
    "Thì người ơi tôi đã sống rất thảnh thơi\n",
    "Nếu một mai tôi có đi qua đời \n",
    "Thì người ơi tôi đã sống rất tuyệt vời \n",
    "…\"\"\"\n",
    "with open(\"Lab7-Exercise2.txt\", \"w\", encoding=\"utf-8\") as f:\n",
    "    f.write(noi_dung)\n"
   ]
  },
  {
   "cell_type": "markdown",
   "id": "0f2483fe",
   "metadata": {},
   "source": [
    "## Lab 7 - Bài 3"
   ]
  },
  {
   "cell_type": "code",
   "execution_count": 1,
   "id": "7034990b",
   "metadata": {},
   "outputs": [
    {
     "name": "stdout",
     "output_type": "stream",
     "text": [
      "\n",
      " Nhập thông tin bài thơ thứ 0:\n",
      "phúc đù 2007 20012\n"
     ]
    }
   ],
   "source": [
    "# Code lab 7  bài 3 ở đây\n",
    "import csv\n",
    "n = int(input(\"Nhập số lượng bai tho: \"))\n",
    "with open(\"thohay.csv\",\"w\", encoding=\"utf-8\") as f:\n",
    "    write = csv.writer(f)\n",
    "    write.writerow(\"Tên bài thơ, Tác giả, Năm sáng tác\".split(\",\"))\n",
    "    for i in range(n):\n",
    "        print(f\"\\n Nhập thông tin bài thơ thứ {i}:\")\n",
    "        tiêu_đề= input(\"Tiêu đề: \")\n",
    "        tác_giả= input(\"Tác giả: \")\n",
    "        năm_sáng_tác = input(\"Năm sáng tác: \")\n",
    "        print(tiêu_đề, tác_giả, năm_sáng_tác)\n",
    "        write.writerow([tiêu_đề, tác_giả, năm_sáng_tác])"
   ]
  },
  {
   "cell_type": "markdown",
   "id": "d36ea3d3",
   "metadata": {},
   "source": [
    "## Lab 7 - Bài 4"
   ]
  },
  {
   "cell_type": "code",
   "execution_count": null,
   "id": "4c707ec1",
   "metadata": {},
   "outputs": [],
   "source": [
    "# code lab 7 bài 4 ở đây"
   ]
  },
  {
   "cell_type": "markdown",
   "id": "e2b41d4a",
   "metadata": {},
   "source": [
    "## Lab 7 - Bài 5: bài tập làm thêm"
   ]
  },
  {
   "cell_type": "code",
   "execution_count": null,
   "id": "0e0172f7",
   "metadata": {},
   "outputs": [],
   "source": [
    "# code lab 7  bài làm thêm ở đây "
   ]
  }
 ],
 "metadata": {
  "kernelspec": {
   "display_name": "Python 3",
   "language": "python",
   "name": "python3"
  },
  "language_info": {
   "codemirror_mode": {
    "name": "ipython",
    "version": 3
   },
   "file_extension": ".py",
   "mimetype": "text/x-python",
   "name": "python",
   "nbconvert_exporter": "python",
   "pygments_lexer": "ipython3",
   "version": "3.11.9"
  }
 },
 "nbformat": 4,
 "nbformat_minor": 5
}
