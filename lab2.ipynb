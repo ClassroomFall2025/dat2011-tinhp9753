{
 "cells": [
  {
   "cell_type": "markdown",
   "id": "fdeff819",
   "metadata": {},
   "source": [
    "# Sinh Viên thực hiện Lab 2 ở Đây"
   ]
  },
  {
   "cell_type": "markdown",
   "id": "acc5d7dc",
   "metadata": {},
   "source": [
    "## Lab 2 - Bài 1"
   ]
  },
  {
   "cell_type": "code",
   "execution_count": 4,
   "id": "982d65e8",
   "metadata": {},
   "outputs": [
    {
     "name": "stdout",
     "output_type": "stream",
     "text": [
      "Tìm thấy cụm từ 'con người' trong đoạn thơ.\n"
     ]
    },
    {
     "data": {
      "text/plain": [
       "'CON NGƯỜI'"
      ]
     },
     "execution_count": 4,
     "metadata": {},
     "output_type": "execute_result"
    }
   ],
   "source": [
    "Thơ = \"Kiếp con người mỏng manh như là gió\"\n",
    "\"Sống trên đời có được mấy lần vui\"\n",
    "\"Sao phải đau mà không thể mỉm cười\"\n",
    "\"Gắng buông nỗi ngậm ngùi nơi quá khứ\"\n",
    "\"Nếu có thể sao ta không làm thử\"\n",
    "\"Để tâm hồn khắc hai chữ bình an\"\n",
    "\"Cho đôi chân bước thanh thản nhẹ nhàng\"\n",
    "\" Dù hướng đời có muôn ngàn đá sỏi\"\n",
    "if (\" con người\" in Thơ):\n",
    "    print (\"Tìm thấy cụm từ 'con người' trong đoạn thơ.\")\n",
    "else:\n",
    "    print (\"Không tìm thấy cụm từ 'con người' trong đoạn thơ.\")\n",
    "\n",
    "str.upper (\"con người\")\n",
    "    "
   ]
  },
  {
   "cell_type": "markdown",
   "id": "c0835310",
   "metadata": {},
   "source": [
    "## Lab 2 - Bài 2\n",
    "\n",
    "\n",
    "\n",
    "str.upper('CON NGƯỜI')\n",
    "\n",
    "\n"
   ]
  },
  {
   "cell_type": "code",
   "execution_count": null,
   "id": "001e0507",
   "metadata": {},
   "outputs": [
    {
     "name": "stdout",
     "output_type": "stream",
     "text": [
      "Tìm thấy cụm từ 'con người' trong đoạn thơ.\n"
     ]
    },
    {
     "data": {
      "text/plain": [
       "'CON NGƯỜI'"
      ]
     },
     "execution_count": 5,
     "metadata": {},
     "output_type": "execute_result"
    }
   ],
   "source": []
  },
  {
   "cell_type": "markdown",
   "id": "07a727fb",
   "metadata": {},
   "source": [
    "S"
   ]
  },
  {
   "cell_type": "markdown",
   "id": "c0835310",
   "metadata": {},
   "source": [
    "## Lab 2 - Bài 2\n",
    "\n"
   ]
  },
  {
   "cell_type": "code",
   "execution_count": null,
   "id": "fa9cb39f",
   "metadata": {},
   "outputs": [],
   "source": [
    "# Code lab 2  bài 2 ở đây\n"
   ]
  },
  {
   "cell_type": "markdown",
   "id": "0f2483fe",
   "metadata": {},
   "source": [
    "## Lab 2 - Bài 3"
   ]
  },
  {
   "cell_type": "code",
   "execution_count": null,
   "id": "7034990b",
   "metadata": {},
   "outputs": [],
   "source": [
    "# Code lab 2  bài 3 ở đây"
   ]
  },
  {
   "cell_type": "markdown",
   "id": "d36ea3d3",
   "metadata": {},
   "source": [
    "## Lab 2 - Bài 4"
   ]
  },
  {
   "cell_type": "code",
   "execution_count": null,
   "id": "4c707ec1",
   "metadata": {},
   "outputs": [],
   "source": [
    "# code lab 2 bài 4 ở đây"
   ]
  },
  {
   "cell_type": "markdown",
   "id": "e2b41d4a",
   "metadata": {},
   "source": [
    "## Lab 2 - Bài 5: bài tập làm thêm"
   ]
  },
  {
   "cell_type": "code",
   "execution_count": null,
   "id": "0e0172f7",
   "metadata": {},
   "outputs": [],
   "source": [
    "# code lab 2  bài làm thêm ở đây "
   ]
  }
 ],
 "metadata": {
  "kernelspec": {
   "display_name": "Python 3",
   "language": "python",
   "name": "python3"
  },
  "language_info": {
   "codemirror_mode": {
    "name": "ipython",
    "version": 3
   },
   "file_extension": ".py",
   "mimetype": "text/x-python",
   "name": "python",
   "nbconvert_exporter": "python",
   "pygments_lexer": "ipython3",
   "version": "3.13.7"
  }
 },
 "nbformat": 4,
 "nbformat_minor": 5
}
