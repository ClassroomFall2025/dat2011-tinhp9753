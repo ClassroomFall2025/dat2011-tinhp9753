{
 "cells": [
  {
   "cell_type": "markdown",
   "id": "fdeff819",
   "metadata": {},
   "source": [
    "# Sinh Viên thực hiện Lab 2 ở Đây"
   ]
  },
  {
   "cell_type": "markdown",
   "id": "acc5d7dc",
   "metadata": {},
   "source": [
    "## Lab 2 - Bài 1"
   ]
  },
  {
   "cell_type": "code",
   "execution_count": 23,
   "id": "982d65e8",
   "metadata": {},
   "outputs": [
    {
     "name": "stdout",
     "output_type": "stream",
     "text": [
      "Từ 'con người' có trong câu thơ\n",
      "Từ 'con người' có trong câu thơ\n"
     ]
    },
    {
     "data": {
      "text/plain": [
       "'CON NGƯỜI'"
      ]
     },
     "execution_count": 25,
     "metadata": {},
     "output_type": "execute_result"
    }
   ],
   "source": [
    "THƠ = \"\"\" Kiếp con người mỏng manh như là gió\n",
    "Sống trong đời có được mấy lần vui \n",
    "Sao phải đau mà không thể mỉm cười\n",
    "Gắng buông nổi ngậm  ngùi  nơi quá khứ \n",
    "Nếu có thể sao ta không  làm thử \n",
    "Để tâm hồn khắc hai chữ bình an\n",
    "Cho đôi chân bước thanh thản nhẹ nhàng\n",
    "dù hướng đời có muôn ngàn đá sỏi \"\"\"\n",
    "if \"con người\" in THƠ:\n",
    "    print(\"Từ 'con người' có trong câu thơ\")\n",
    "else:\n",
    "    print(\"Từ 'con người' không có trong câu thơ\")\n",
    "\n",
    "    \n",
    "\n",
    "THƠ = \" Kiếp con người mỏng manh như là gió\" \n",
    "if \"con người\" in THƠ:\n",
    "        print(\"Từ 'con người' có trong câu thơ\")\n",
    "\n",
    "str.upper ('con người')\n",
    "\n",
    "\n"
   ]
  },
  {
   "cell_type": "markdown",
   "id": "c0835310",
   "metadata": {},
   "source": [
    "## Lab 2 - Bài 2\n",
    "\n",
    "\n",
    "\n",
    "str.upper('CON NGƯỜI')\n",
    "\n",
    "\n"
   ]
  },
  {
   "cell_type": "code",
   "execution_count": null,
   "id": "001e0507",
   "metadata": {},
   "outputs": [
    {
     "name": "stdout",
     "output_type": "stream",
     "text": [
      "“…Kiếp con người mỏng manh như là gió\n",
      "Sống trên đời có được mấy lần vui\n",
      "Sao phải đau mà không thể mỉm cười\n",
      "Gắng buông nỗi ngậm ngùi nơi quá khứ\n",
      "Nếu có thể sao ta không làm thử\n",
      "Để tâm hồn khắc hai chữ bình an\n",
      "Cho đôi chân bước thanh thản nhẹ nhàng\n",
      " Dù hướng đời có muôn ngàn đá sỏi…”\n"
     ]
    }
   ],
   "source": [
    "Thơ = \"\"\"“…Kiếp con người mỏng manh như là gió\n",
    "Sống trên đời có được mấy lần vui\n",
    "Sao phải đau mà không thể mỉm cười\n",
    "Gắng buông nỗi ngậm ngùi nơi quá khứ\n",
    "Nếu có thể sao ta không làm thử\n",
    "Để tâm hồn khắc hai chữ bình an\n",
    "Cho đôi chân bước thanh thản nhẹ nhàng\n",
    " Dù hướng đời có muôn ngàn đá sỏi…”\"\"\"\n",
    "\n",
    "tho2 = Thơ.replace(\"bình an \",\"hạnh phúc\")\n",
    "print(tho2)\n",
    "\n"
   ]
  },
  {
   "cell_type": "markdown",
   "id": "07a727fb",
   "metadata": {},
   "source": [
    "S"
   ]
  },
  {
   "cell_type": "markdown",
   "id": "c0835310",
   "metadata": {},
   "source": [
    "## Lab 2 - Bài 2\n",
    "\n"
   ]
  },
  {
   "cell_type": "code",
   "execution_count": null,
   "id": "fa9cb39f",
   "metadata": {},
   "outputs": [],
   "source": [
    "# Code lab 2  bài 2 ở đây\n"
   ]
  },
  {
   "cell_type": "markdown",
   "id": "0f2483fe",
   "metadata": {},
   "source": [
    "## Lab 2 - Bài 3"
   ]
  },
  {
   "cell_type": "code",
   "execution_count": 4,
   "id": "7034990b",
   "metadata": {},
   "outputs": [
    {
     "name": "stdout",
     "output_type": "stream",
     "text": [
      "Phương trình có nghiệm x = -1.0\n"
     ]
    }
   ],
   "source": [
    "# Code lab 2  bài 3 ở đây\n",
    "a = float(input(\"Nhập số a: \"))\n",
    "b = float(input(\"Nhập số b: \"))\n",
    "if a == 0:\n",
    "    if b == 0:\n",
    "        print(\"Phương trình vô số nghiệm\")\n",
    "    else:\n",
    "        print(\"Phương trình vô nghiệm\") \n",
    "else:\n",
    "    x = -b/a\n",
    "    print(\"Phương trình có nghiệm x =\", x)"
   ]
  },
  {
   "cell_type": "markdown",
   "id": "d36ea3d3",
   "metadata": {},
   "source": [
    "## Lab 2 - Bài 4"
   ]
  },
  {
   "cell_type": "code",
   "execution_count": null,
   "id": "4c707ec1",
   "metadata": {},
   "outputs": [],
   "source": [
    "# code lab 2 bài 4 ở đây\n",
    "a = float(input(\"Nhập số a: \"))\n",
    "b = float(input(\"Nhập số b: \")) \n",
    "c = float(input(\"Nhập số c: \")) \n",
    "if a == 0:\n",
    "    if b == 0:\n",
    "        if c == 0:\n",
    "            print(\"Phương trình vô số nghiệm\")\n",
    "        else:\n",
    "            print(\"Phương trình vô nghiệm\")\n",
    "    else:\n",
    "        x = -c/b\n",
    "        print(\"Phương trình có nghiệm x =\", x)\n",
    "else:\n",
    "    delta = b**2 - 4*a*c\n",
    "    if delta < 0:\n",
    "        print(\"Phương trình vô nghiệm\")\n",
    "    elif delta == 0:\n",
    "        x = -b/(2*a)\n",
    "        print(\"Phương trình có nghiệm kép x =\", x)\n",
    "    else:\n",
    "        x1 = (-b + delta**0.5)/(2*a)\n",
    "        x2 = (-b - delta**0.5)/(2*a)\n",
    "        print(\"Phương trình có hai nghiệm phân biệt x1 =\", x1, \"và x2 =\", x2)"
   ]
  },
  {
   "cell_type": "markdown",
   "id": "e2b41d4a",
   "metadata": {},
   "source": [
    "## Lab 2 - Bài 5: bài tập làm thêm"
   ]
  },
  {
   "cell_type": "code",
   "execution_count": null,
   "id": "0e0172f7",
   "metadata": {},
   "outputs": [],
   "source": [
    "# code lab 2  bài làm thêm ở đây "
   ]
  }
 ],
 "metadata": {
  "kernelspec": {
   "display_name": "Python 3",
   "language": "python",
   "name": "python3"
  },
  "language_info": {
   "codemirror_mode": {
    "name": "ipython",
    "version": 3
   },
   "file_extension": ".py",
   "mimetype": "text/x-python",
   "name": "python",
   "nbconvert_exporter": "python",
   "pygments_lexer": "ipython3",
   "version": "3.13.7"
  }
 },
 "nbformat": 4,
 "nbformat_minor": 5
}
