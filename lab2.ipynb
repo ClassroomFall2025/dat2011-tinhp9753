{
 "cells": [
  {
   "cell_type": "markdown",
   "id": "fdeff819",
   "metadata": {},
   "source": [
    "# Sinh Viên thực hiện Lab 2 ở Đây"
   ]
  },
  {
   "cell_type": "markdown",
   "id": "acc5d7dc",
   "metadata": {},
   "source": [
    "## Lab 2 - Bài 1"
   ]
  },
  {
   "cell_type": "code",
   "execution_count": 3,
   "id": "001e0507",
   "metadata": {},
   "outputs": [
    {
     "name": "stdout",
     "output_type": "stream",
     "text": [
      "Tìm thấy cụm từ 'con người' trong đoạn thơ.\n"
     ]
    }
   ],
   "source": [
    "# Code lab 2 bài 1 ở đây\n",
    "THƠ = \" KHIẾP CON NGƯỜI MỎNG MANH NHƯ GIÓ\" \n",
    "\"SỐNG TRÊN ĐỜI CÓ ĐƯỢC MẤY LẦN VUI\"\n",
    "\"SAO PHẢI ĐAU MÀ KHÔNG THỂ MỈM CƯỜI\" \n",
    "\"GĂNG BUÔNG  NỖI NGẬM  NGÙI  NƠI QUÁ KHỨ\"\n",
    "\"NẾU CÓ THỂ SAO TA KHÔNG LÀM THỬ \"\n",
    "\"ĐỂ TÂM HỒN KHẮC HAI CHỮ BÌNH AN\"\n",
    "\"CHO ĐÔI CHÂN BƯỚC THANH THẢN NHẸ NHÀNG\"\n",
    "\"DÙ MUÔN ĐỜI CÓ MUÔN NGÀN ĐÁ SỎI\"\n",
    "if (\"CON NGƯỜI\" )in THƠ:\n",
    "    print(\"Tìm thấy cụm từ 'con người' trong đoạn thơ.\")\n",
    "else:\n",
    "    print(\"Không tìm thấy cụm từ 'con người' trong đoạn thơ.\")"
   ]
  },
  {
   "cell_type": "markdown",
   "id": "c0835310",
   "metadata": {},
   "source": [
    "## Lab 2 - Bài 2\n",
    "\n"
   ]
  },
  {
   "cell_type": "code",
   "execution_count": 11,
   "id": "fa9cb39f",
   "metadata": {},
   "outputs": [],
   "source": [
    "# Code lab 2  bài 2 ở đây"
   ]
  },
  {
   "cell_type": "markdown",
   "id": "0f2483fe",
   "metadata": {},
   "source": [
    "## Lab 2 - Bài 3"
   ]
  },
  {
   "cell_type": "code",
   "execution_count": null,
   "id": "7034990b",
   "metadata": {},
   "outputs": [],
   "source": [
    "# Code lab 2  bài 3 ở đây"
   ]
  },
  {
   "cell_type": "markdown",
   "id": "d36ea3d3",
   "metadata": {},
   "source": [
    "## Lab 2 - Bài 4"
   ]
  },
  {
   "cell_type": "code",
   "execution_count": null,
   "id": "4c707ec1",
   "metadata": {},
   "outputs": [],
   "source": [
    "# code lab 2 bài 4 ở đây"
   ]
  },
  {
   "cell_type": "markdown",
   "id": "e2b41d4a",
   "metadata": {},
   "source": [
    "## Lab 2 - Bài 5: bài tập làm thêm"
   ]
  },
  {
   "cell_type": "code",
   "execution_count": null,
   "id": "0e0172f7",
   "metadata": {},
   "outputs": [],
   "source": [
    "# code lab 2  bài làm thêm ở đây "
   ]
  }
 ],
 "metadata": {
  "kernelspec": {
   "display_name": "Python 3",
   "language": "python",
   "name": "python3"
  },
  "language_info": {
   "codemirror_mode": {
    "name": "ipython",
    "version": 3
   },
   "file_extension": ".py",
   "mimetype": "text/x-python",
   "name": "python",
   "nbconvert_exporter": "python",
   "pygments_lexer": "ipython3",
   "version": "3.13.7"
  }
 },
 "nbformat": 4,
 "nbformat_minor": 5
}
