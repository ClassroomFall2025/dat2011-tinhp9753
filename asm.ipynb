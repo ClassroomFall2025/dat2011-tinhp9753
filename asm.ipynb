{
 "cells": [
  {
   "cell_type": "code",
   "execution_count": null,
   "id": "f7e3b125",
   "metadata": {},
   "outputs": [
    {
     "name": "stdout",
     "output_type": "stream",
     "text": [
      "1. Nhap danh sach nhan vien\n",
      "        2. Doc thong tin nhan vien\n",
      "        3. Tim và hien thi nhan vien theo ma\n",
      "        4. Xoa nhan vien\n",
      "        5. Cap nhat thong tin nhan vien\n",
      "        6. Tim cac nhan vien theo khoang luong\n",
      "        7. Sap xep nhan vien theo ho va ten\n",
      "        8. Sap xep nhan vien theo thu nhap\n",
      "        9. Xuat 5 nhan vien co thu nhap cao nhat\n",
      "Doc thong tin nhan vien\n",
      "Chuc nang 2\n",
      "1. Nhap danh sach nhan vien\n",
      "        2. Doc thong tin nhan vien\n",
      "        3. Tim và hien thi nhan vien theo ma\n",
      "        4. Xoa nhan vien\n",
      "        5. Cap nhat thong tin nhan vien\n",
      "        6. Tim cac nhan vien theo khoang luong\n",
      "        7. Sap xep nhan vien theo ho va ten\n",
      "        8. Sap xep nhan vien theo thu nhap\n",
      "        9. Xuat 5 nhan vien co thu nhap cao nhat\n",
      "Thoat chuong trinh\n"
     ]
    }
   ],
   "source": [
    "import asm\n",
    "while True:\n",
    "    print(asm.menu)\n",
    "    lua_chon = input(\"Nhap lua chon cua ban (0 de thoat): \")\n",
    "    match lua_chon:\n",
    "        case \"0\":\n",
    "            print(\"Thoat chuong trinh\")\n",
    "            break\n",
    "        case \"1\":\n",
    "            print(\"Nhap danh sach nhan vien\")\n",
    "            asm.cn1()\n",
    "        case \"2\":\n",
    "            print(\"Doc thong tin nhan vien\")\n",
    "            asm.cn2()\n",
    "        case \"3\":\n",
    "            print(\"Tim va hien thi nhan vien theo ma\")\n",
    "        case \"4\":\n",
    "            print(\"Xoa nhan vien\")\n",
    "        case \"5\":\n",
    "            print(\"Cap nhat thong tin nhan vien\")\n",
    "        case \"6\":\n",
    "            print(\"Tim cac nhan vien theo khoang luong\")\n",
    "        case \"7\":\n",
    "            print(\"Sap xep nhan vien theo ho va ten\")\n",
    "        case \"8\":\n",
    "            print(\"Sap xep nhan vien theo thu nhap\")\n",
    "        case \"9\":\n",
    "            print(\"Xuat 5 nhan vien co thu nhap cao nhat\")\n",
    "        case _:\n",
    "            print(\"Lựa chọn không hợp lệ, vui lòng chọn lại.\")"
   ]
  }
 ],
 "metadata": {
  "kernelspec": {
   "display_name": "Python 3",
   "language": "python",
   "name": "python3"
  },
  "language_info": {
   "codemirror_mode": {
    "name": "ipython",
    "version": 3
   },
   "file_extension": ".py",
   "mimetype": "text/x-python",
   "name": "python",
   "nbconvert_exporter": "python",
   "pygments_lexer": "ipython3",
   "version": "3.14.0"
  }
 },
 "nbformat": 4,
 "nbformat_minor": 5
}
