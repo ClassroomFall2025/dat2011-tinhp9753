{
 "cells": [
  {
   "cell_type": "markdown",
   "id": "fdeff819",
   "metadata": {},
   "source": [
    "# Sinh Viên thực hiện Lab 3 ở Đây"
   ]
  },
  {
   "cell_type": "markdown",
   "id": "acc5d7dc",
   "metadata": {},
   "source": [
    "## Lab 3 - Bài 1"
   ]
  },
  {
   "cell_type": "code",
   "execution_count": 6,
   "id": "001e0507",
   "metadata": {},
   "outputs": [
    {
     "name": "stdout",
     "output_type": "stream",
     "text": [
      " sắp xếp các thứ tự tăng dần:  [5, 10, 15, 20, 25, 30, 35, 40, 50]\n",
      "xuất các phần tử có giá trị nhỏ nhất, 5\n",
      "trung bình cộng các phần tử chia hết cho 3:  22.5\n"
     ]
    }
   ],
   "source": [
    "# Code lab 3 bài 1 ở đây\n",
    "a = [ 10, 5, 20, 15, 30, 25, 40, 35, 50 ]\n",
    "a.sort()\n",
    "print(\" sắp xếp các thứ tự tăng dần: \", a)\n",
    "\n",
    "print (\"xuất các phần tử có giá trị nhỏ nhất,\", a[0])\n",
    "\n",
    "chia3 = [ x for x in a if x % 3 == 0]\n",
    "if chia3:\n",
    "      tbc = sum(chia3) / len(chia3)\n",
    "      print(\"trung bình cộng các phần tử chia hết cho 3: \", tbc)\n",
    "else:\n",
    "        print(\"không có phần tử nào chia hết cho 3\")\n"
   ]
  },
  {
   "cell_type": "code",
   "execution_count": 12,
   "id": "5d6fac71",
   "metadata": {},
   "outputs": [],
   "source": [
    "x = 30\n",
    "while x <= 10:\n",
    "    if x % 3 == 0:\n",
    "     x += 1\n",
    "     continue\n",
    "    print(x) \n",
    "    x += 1"
   ]
  },
  {
   "cell_type": "markdown",
   "id": "c0835310",
   "metadata": {},
   "source": [
    "## Lab 3 - Bài 2"
   ]
  },
  {
   "cell_type": "code",
   "execution_count": 19,
   "id": "fa9cb39f",
   "metadata": {},
   "outputs": [
    {
     "name": "stdout",
     "output_type": "stream",
     "text": [
      "[{'ho_ten': 'ghg', 'diem': 7.0, 'họ tên ': 'ghg', 'điểm ': 7.0, 'học lực ': 'Khá'}]\n",
      "[{'ho_ten': 'ghg', 'diem': 7.0, 'họ tên ': 'ghg', 'điểm ': 7.0, 'học lực ': 'Khá'}, {'ho_ten': 'ttyty', 'diem': 4.0, 'xep_loai': 'Yếu', 'họ tên ': 'ttyty', 'điểm ': 4.0, 'học lực ': 'Khá'}]\n",
      " thoát chương trình\n"
     ]
    }
   ],
   "source": [
    "# Code lab 3  bài 2 ở đây\n",
    "dssv = []\n",
    "sinh_vien = {}\n",
    "while True:\n",
    "    ho_ten = input(\"Nhập họ tên sinh viên: \")\n",
    "    if ho_ten == \"q\":\n",
    "        print (\" thoát chương trình\")\n",
    "        break\n",
    "    else:\n",
    "        diem = float(input(\"Nhập điểm sinh viên: \"))\n",
    "        sinh_vien = {'ho_ten': ho_ten, 'diem': diem}\n",
    "    #print(sinh_vien)\n",
    "    if diem >= 9 and diem <= 10:\n",
    "        hoc_luc = 'Xuất sắc'\n",
    "    elif diem >= 8 and diem < 9:\n",
    "        hoc_luc = 'Giỏi'\n",
    "    elif diem >= 7 and diem < 8:\n",
    "        hoc_luc = 'Khá'\n",
    "    elif diem >= 5 and diem < 7:\n",
    "        hoc_luc = 'Trung bình'\n",
    "    else: \n",
    "        sinh_vien['xep_loai'] = 'Yếu'\n",
    "    sinh_vien  [\"họ tên \"]= ho_ten \n",
    "    sinh_vien  [\"điểm \"]= diem\n",
    "    sinh_vien  [\"học lực \"] = hoc_luc\n",
    "    dssv.append(sinh_vien)\n",
    "    print(dssv)\n",
    "\n"
   ]
  },
  {
   "cell_type": "code",
   "execution_count": 17,
   "id": "7d127c23",
   "metadata": {},
   "outputs": [
    {
     "name": "stdout",
     "output_type": "stream",
     "text": [
      "11 = 1\n",
      "12 = 2\n",
      "13 = 3\n",
      "14 = 4\n",
      "15 = 5\n",
      "16 = 6\n",
      "17 = 7\n",
      "18 = 8\n",
      "19 = 9\n",
      "110 = 10\n",
      "111 = 11\n",
      "112 = 12\n",
      "113 = 13\n",
      "114 = 14\n",
      "115 = 15\n",
      "116 = 16\n",
      "117 = 17\n",
      "118 = 18\n",
      "119 = 19\n",
      "120 = 20\n",
      "121 = 21\n",
      "122 = 22\n",
      "123 = 23\n",
      "124 = 24\n",
      "125 = 25\n",
      "126 = 26\n",
      "127 = 27\n",
      "128 = 28\n",
      "129 = 29\n",
      "130 = 30\n",
      "131 = 31\n",
      "132 = 32\n",
      "133 = 33\n",
      "134 = 34\n",
      "135 = 35\n",
      "136 = 36\n",
      "137 = 37\n",
      "138 = 38\n",
      "139 = 39\n",
      "140 = 40\n",
      "141 = 41\n",
      "142 = 42\n",
      "143 = 43\n",
      "144 = 44\n",
      "145 = 45\n",
      "146 = 46\n",
      "147 = 47\n",
      "148 = 48\n",
      "149 = 49\n"
     ]
    }
   ],
   "source": [
    "for i in range(1, 50):\n",
    "    print (\"1\" + str(i) + \" = \" + str(1*i))"
   ]
  },
  {
   "cell_type": "markdown",
   "id": "0f2483fe",
   "metadata": {},
   "source": [
    "## Lab 3 - Bài 3"
   ]
  },
  {
   "cell_type": "code",
   "execution_count": 37,
   "id": "7034990b",
   "metadata": {},
   "outputs": [
    {
     "name": "stdout",
     "output_type": "stream",
     "text": [
      "10 là số nguyên tố\n"
     ]
    }
   ],
   "source": [
    "# Code lab 3  bài 3 ở đây\n",
    "\n",
    "# Code lab 3  bài 3 ở đây\n",
    "n = int(input(\"Nhập số nguyên dương n: \"))\n",
    "ok = True\n",
    "i = 2\n",
    "while i < (n - 1):\n",
    "    if n % i == 0:\n",
    "            ok = False;\n",
    "            break;\n",
    "i += 1\n",
    "if n > 1:\n",
    "    print(n, \"là số nguyên tố\")\n",
    "else:\n",
    "    print(n, \"không phải là số nguyên tố\")"
   ]
  },
  {
   "cell_type": "code",
   "execution_count": 47,
   "id": "8dd0cd4e",
   "metadata": {},
   "outputs": [
    {
     "name": "stdout",
     "output_type": "stream",
     "text": [
      "1. Phep tinh co ban: Cong, tru, nhan, chia\n",
      "        2. Luy thua: Tinh x^y\n",
      "        3. Can bac hai: Tinh √x\n",
      "        4. Ham luong giac: Sin, cos, tan\n",
      "        5. Logarit: Log co so 10, ln, log co so tuy chon\n",
      "        6. Giai phuong trinh bac nhat\n",
      "        7. Giai phuong trinh bac 2\n",
      "        8. Lich su: Luu va xem lai cac phep tinh da thuc hien\n",
      "        9. Thoi gian: Hien thi thoi gian hien tai\n",
      "        10. Giao dien than thien: Menu de su dung bang tieng Viet\n",
      " Log co so 10, ln, log co so tuy chon \n",
      "1. Phep tinh co ban: Cong, tru, nhan, chia\n",
      "        2. Luy thua: Tinh x^y\n",
      "        3. Can bac hai: Tinh √x\n",
      "        4. Ham luong giac: Sin, cos, tan\n",
      "        5. Logarit: Log co so 10, ln, log co so tuy chon\n",
      "        6. Giai phuong trinh bac nhat\n",
      "        7. Giai phuong trinh bac 2\n",
      "        8. Lich su: Luu va xem lai cac phep tinh da thuc hien\n",
      "        9. Thoi gian: Hien thi thoi gian hien tai\n",
      "        10. Giao dien than thien: Menu de su dung bang tieng Viet\n",
      " Sin, cos, tan \n",
      "1. Phep tinh co ban: Cong, tru, nhan, chia\n",
      "        2. Luy thua: Tinh x^y\n",
      "        3. Can bac hai: Tinh √x\n",
      "        4. Ham luong giac: Sin, cos, tan\n",
      "        5. Logarit: Log co so 10, ln, log co so tuy chon\n",
      "        6. Giai phuong trinh bac nhat\n",
      "        7. Giai phuong trinh bac 2\n",
      "        8. Lich su: Luu va xem lai cac phep tinh da thuc hien\n",
      "        9. Thoi gian: Hien thi thoi gian hien tai\n",
      "        10. Giao dien than thien: Menu de su dung bang tieng Viet\n",
      " Log co so 10, ln, log co so tuy chon \n",
      "1. Phep tinh co ban: Cong, tru, nhan, chia\n",
      "        2. Luy thua: Tinh x^y\n",
      "        3. Can bac hai: Tinh √x\n",
      "        4. Ham luong giac: Sin, cos, tan\n",
      "        5. Logarit: Log co so 10, ln, log co so tuy chon\n",
      "        6. Giai phuong trinh bac nhat\n",
      "        7. Giai phuong trinh bac 2\n",
      "        8. Lich su: Luu va xem lai cac phep tinh da thuc hien\n",
      "        9. Thoi gian: Hien thi thoi gian hien tai\n",
      "        10. Giao dien than thien: Menu de su dung bang tieng Viet\n",
      "Khong hop le\n"
     ]
    }
   ],
   "source": [
    "menu = \"\"\"1. Phep tinh co ban: Cong, tru, nhan, chia\n",
    "        2. Luy thua: Tinh x^y\n",
    "        3. Can bac hai: Tinh √x\n",
    "        4. Ham luong giac: Sin, cos, tan\n",
    "        5. Logarit: Log co so 10, ln, log co so tuy chon\n",
    "        6. Giai phuong trinh bac nhat\n",
    "        7. Giai phuong trinh bac 2\n",
    "        8. Lich su: Luu va xem lai cac phep tinh da thuc hien\n",
    "        9. Thoi gian: Hien thi thoi gian hien tai\n",
    "        10. Giao dien than thien: Menu de su dung bang tieng Viet\"\"\"\n",
    "while True:\n",
    "    print(menu)\n",
    "    luu_chon = input(\" nhap lua chon:\")\n",
    "    match luu_chon:\n",
    "     case \"10\":\n",
    "         print (\" Menu de su dung bang tieng Viet \")\n",
    "         break\n",
    "     case  \"9\":\n",
    "            print (\" hien thi thoi gian hien tai \")\n",
    "     case  \"8\":\n",
    "            print (\" Luu va xem lai cac phep tinh da thuc hien \")\n",
    "     case  \"7\":\n",
    "            print (\" Giai phuong trinh bac 2 \")\n",
    "     case  \"6\":\n",
    "            print (\" Giai phuong trinh bac nhat \")\n",
    "     case  \"5\":\n",
    "            print (\" Log co so 10, ln, log co so tuy chon \")\n",
    "     case  \"4\":\n",
    "            print (\" Sin, cos, tan \")\n",
    "     case  \"3\":\n",
    "            print (\" Tinh √x \")\n",
    "     case  \"2\":\n",
    "            print (\" Tinh x^y \")            \n",
    "     case  \"1\":\n",
    "            print (\" Cong, tru, nhan, chia \")   \n",
    "     case   tun: \n",
    "            print(\"Khong hop le\")\n",
    "            break\n",
    "        \n",
    "\n",
    "\n",
    "\n",
    "\n",
    "\n",
    "\n"
   ]
  },
  {
   "cell_type": "code",
   "execution_count": null,
   "id": "95ac7c2f",
   "metadata": {},
   "outputs": [
    {
     "name": "stdout",
     "output_type": "stream",
     "text": [
      "200\n"
     ]
    }
   ],
   "source": [
    "luu_chon = input (\" chon (5/10/15/200): \")\n",
    "if luu_chon in [\"5\", \"10\", \"15\", \"200\"]:\n",
    "    print(luu_chon)\n",
    "else:\n",
    "     print(\"khong hop le\")\n"
   ]
  },
  {
   "cell_type": "code",
   "execution_count": null,
   "id": "5c3931b7",
   "metadata": {},
   "outputs": [
    {
     "name": "stdout",
     "output_type": "stream",
     "text": [
      "ngay\n"
     ]
    }
   ],
   "source": [
    "luu_chon = input (\" chon (ngay / than nam ): \")\n",
    "if luu_chon in [\"ngay\", \"than\", \"nam\"]:\n",
    "    print(luu_chon)\n",
    "else:\n",
    "     print(\"khong hop le\")\n",
    "    "
   ]
  },
  {
   "cell_type": "markdown",
   "id": "d36ea3d3",
   "metadata": {},
   "source": [
    "## Lab 3 - Bài 4"
   ]
  },
  {
   "cell_type": "code",
   "execution_count": 38,
   "id": "4c707ec1",
   "metadata": {},
   "outputs": [
    {
     "name": "stdout",
     "output_type": "stream",
     "text": [
      "1 x 1 = 1\n",
      "1 x 2 = 2\n",
      "1 x 3 = 3\n",
      "1 x 4 = 4\n",
      "1 x 5 = 5\n",
      "1 x 6 = 6\n",
      "1 x 7 = 7\n",
      "1 x 8 = 8\n",
      "1 x 9 = 9\n",
      "2 x 1 = 2\n",
      "2 x 2 = 4\n",
      "2 x 3 = 6\n",
      "2 x 4 = 8\n",
      "2 x 5 = 10\n",
      "2 x 6 = 12\n",
      "2 x 7 = 14\n",
      "2 x 8 = 16\n",
      "2 x 9 = 18\n",
      "3 x 1 = 3\n",
      "3 x 2 = 6\n",
      "3 x 3 = 9\n",
      "3 x 4 = 12\n",
      "3 x 5 = 15\n",
      "3 x 6 = 18\n",
      "3 x 7 = 21\n",
      "3 x 8 = 24\n",
      "3 x 9 = 27\n",
      "4 x 1 = 4\n",
      "4 x 2 = 8\n",
      "4 x 3 = 12\n",
      "4 x 4 = 16\n",
      "4 x 5 = 20\n",
      "4 x 6 = 24\n",
      "4 x 7 = 28\n",
      "4 x 8 = 32\n",
      "4 x 9 = 36\n",
      "5 x 1 = 5\n",
      "5 x 2 = 10\n",
      "5 x 3 = 15\n",
      "5 x 4 = 20\n",
      "5 x 5 = 25\n",
      "5 x 6 = 30\n",
      "5 x 7 = 35\n",
      "5 x 8 = 40\n",
      "5 x 9 = 45\n",
      "6 x 1 = 6\n",
      "6 x 2 = 12\n",
      "6 x 3 = 18\n",
      "6 x 4 = 24\n",
      "6 x 5 = 30\n",
      "6 x 6 = 36\n",
      "6 x 7 = 42\n",
      "6 x 8 = 48\n",
      "6 x 9 = 54\n",
      "7 x 1 = 7\n",
      "7 x 2 = 14\n",
      "7 x 3 = 21\n",
      "7 x 4 = 28\n",
      "7 x 5 = 35\n",
      "7 x 6 = 42\n",
      "7 x 7 = 49\n",
      "7 x 8 = 56\n",
      "7 x 9 = 63\n",
      "8 x 1 = 8\n",
      "8 x 2 = 16\n",
      "8 x 3 = 24\n",
      "8 x 4 = 32\n",
      "8 x 5 = 40\n",
      "8 x 6 = 48\n",
      "8 x 7 = 56\n",
      "8 x 8 = 64\n",
      "8 x 9 = 72\n",
      "9 x 1 = 9\n",
      "9 x 2 = 18\n",
      "9 x 3 = 27\n",
      "9 x 4 = 36\n",
      "9 x 5 = 45\n",
      "9 x 6 = 54\n",
      "9 x 7 = 63\n",
      "9 x 8 = 72\n",
      "9 x 9 = 81\n"
     ]
    }
   ],
   "source": [
    "# code lab 3 bài 4 ở đây\n",
    "# code lab 3 bài 4 ở đây\n",
    "x = 9\n",
    "for i in range(1, 10):\n",
    "    for j in range(1, 10):\n",
    "          print(\"%d x %d = %d\" % (i, j, i * j))"
   ]
  },
  {
   "cell_type": "code",
   "execution_count": null,
   "id": "dc07bbc4",
   "metadata": {},
   "outputs": [],
   "source": []
  },
  {
   "cell_type": "markdown",
   "id": "e2b41d4a",
   "metadata": {},
   "source": [
    "## Lab 3 - Bài 5: bài tập làm thêm"
   ]
  },
  {
   "cell_type": "code",
   "execution_count": null,
   "id": "0e0172f7",
   "metadata": {},
   "outputs": [],
   "source": [
    "# code lab 3  bài làm thêm ở đây "
   ]
  }
 ],
 "metadata": {
  "kernelspec": {
   "display_name": "Python 3",
   "language": "python",
   "name": "python3"
  },
  "language_info": {
   "codemirror_mode": {
    "name": "ipython",
    "version": 3
   },
   "file_extension": ".py",
   "mimetype": "text/x-python",
   "name": "python",
   "nbconvert_exporter": "python",
   "pygments_lexer": "ipython3",
   "version": "3.13.7"
  }
 },
 "nbformat": 4,
 "nbformat_minor": 5
}
