{
 "cells": [
  {
   "cell_type": "markdown",
   "id": "fdeff819",
   "metadata": {},
   "source": [
    "# Sinh Viên thực hiện Lab 8 ở Đây"
   ]
  },
  {
   "cell_type": "markdown",
   "id": "acc5d7dc",
   "metadata": {},
   "source": [
    "## Lab 8 - Bài 1"
   ]
  },
  {
   "cell_type": "code",
   "execution_count": 2,
   "id": "001e0507",
   "metadata": {},
   "outputs": [
    {
     "name": "stdout",
     "output_type": "stream",
     "text": [
      "Họ: PHẠM\n",
      "Tên đệm: minh\n",
      "Tên: TÌNH\n",
      "Họ tên đầy đủ: PHẠM minh TÌNH\n"
     ]
    }
   ],
   "source": [
    "# Code lab 8 bài 1 ở đây\n",
    "hoten = input(\"Nhập họ và tên: \").strip()\n",
    "\n",
    "parts = hoten.split()\n",
    "\n",
    "ho = parts[0].upper()          \n",
    "ten = parts[-1].upper()            \n",
    "tendem = \" \".join(parts[1:-1])     \n",
    "\n",
    "print(\"Họ:\", ho)\n",
    "print(\"Tên đệm:\", tendem)\n",
    "print(\"Tên:\", ten)\n",
    "\n",
    "\n",
    "if tendem:  \n",
    "    print(\"Họ tên đầy đủ:\", f\"{ho} {tendem} {ten}\")\n",
    "else:       \n",
    "    print(\"Họ tên đầy đủ:\", f\"{ho} {ten}\")\n",
    "\n"
   ]
  },
  {
   "cell_type": "markdown",
   "id": "c0835310",
   "metadata": {},
   "source": [
    "## Lab 8 - Bài 2"
   ]
  },
  {
   "cell_type": "code",
   "execution_count": 4,
   "id": "fa9cb39f",
   "metadata": {},
   "outputs": [
    {
     "name": "stdout",
     "output_type": "stream",
     "text": [
      "\n",
      " Thông tin sinh viên hợp lệ!\n",
      "pham minh tinh: pham minh tinh\n",
      "gmai9753@Gmail.com: gmai9753@Gmail.com\n",
      "0356736567: 0356736567\n",
      "066206001514: 066206001514\n"
     ]
    }
   ],
   "source": [
    "import re\n",
    "\n",
    "def kiem_tra_email(email):\n",
    "    pattern = r'^[\\w\\.-]+@[\\w\\.-]+\\.\\w+$'\n",
    "    return re.match(pattern, email) is not None\n",
    "\n",
    "def kiem_tra_sdt(sdt):\n",
    "    pattern = r'^0\\d{9}$'\n",
    "    return re.match(pattern, sdt) is not None\n",
    "\n",
    "def kiem_tra_cmnd(cmnd):\n",
    "    pattern = r'^\\d{9}(\\d{3})?$'\n",
    "    return re.match(pattern, cmnd) is not None\n",
    "\n",
    "sv = {}\n",
    "\n",
    "sv['Họ tên'] = input(\"Nhập họ và tên: \").strip()\n",
    "sv['Email'] = input(\"Nhập email: \").strip()\n",
    "sv['Số điện thoại'] = input(\"Nhập số điện thoại: \").strip()\n",
    "sv['CMND'] = input(\"Nhập số CMND/CCCD: \").strip()\n",
    "\n",
    "\n",
    "loi = []  \n",
    "\n",
    "if not kiem_tra_email(sv['Email']):\n",
    "    loi.append(\"Email không đúng định dạng!\")\n",
    "\n",
    "if not kiem_tra_sdt(sv['Số điện thoại']):\n",
    "    loi.append(\"Số điện thoại không đúng định dạng! (phải gồm 10 số và bắt đầu bằng 0)\")\n",
    "\n",
    "if not kiem_tra_cmnd(sv['CMND']):\n",
    "    loi.append(\"CMND/CCCD không đúng định dạng! (phải có 9 hoặc 12 số)\")\n",
    "\n",
    "if loi:\n",
    "    print(\"\\n Có lỗi trong quá trình nhập:\")\n",
    "    for l in loi:\n",
    "        print(\"-\", l)\n",
    "else:\n",
    "    print(\"\\n Thông tin sinh viên hợp lệ!\")\n",
    "    for t, t in sv.items():\n",
    "        print(f\"{t}: {t}\")\n"
   ]
  },
  {
   "cell_type": "markdown",
   "id": "0f2483fe",
   "metadata": {},
   "source": [
    "## Lab 8 - Bài 3"
   ]
  },
  {
   "cell_type": "code",
   "execution_count": 5,
   "id": "7034990b",
   "metadata": {},
   "outputs": [
    {
     "name": "stdout",
     "output_type": "stream",
     "text": [
      "Đã tạo xong 1.000.000 số ngẫu nhiên và ghi vào file 'so_ngau_nhien.txt'\n"
     ]
    }
   ],
   "source": [
    "# Code lab 8  bài 3 ở đây\n",
    "import random\n",
    "\n",
    "numbers = [str(random.randint(0, 10000)) for _ in range(1_000_000)]\n",
    "\n",
    "with open(\"so_ngau_nhien.txt\", \"w\") as f:\n",
    "    f.write(\" \".join(numbers))\n",
    "\n",
    "print(\"Đã tạo xong 1.000.000 số ngẫu nhiên và ghi vào file 'so_ngau_nhien.txt'\")\n"
   ]
  },
  {
   "cell_type": "markdown",
   "id": "d36ea3d3",
   "metadata": {},
   "source": [
    "## Lab 8 - Bài 4"
   ]
  },
  {
   "cell_type": "code",
   "execution_count": 6,
   "id": "4c707ec1",
   "metadata": {},
   "outputs": [
    {
     "name": "stdout",
     "output_type": "stream",
     "text": [
      "Kết quả thống kê:\n",
      "Trung bình (Mean): 4999.931196\n",
      "Độ lệch chuẩn (Standard Deviation): 2886.4782855224985\n"
     ]
    }
   ],
   "source": [
    "# code lab 8 bài 4 ở đây\n",
    "import statistics\n",
    "\n",
    "with open(\"so_ngau_nhien.txt\", \"r\") as f:\n",
    "    data = f.read().strip().split()\n",
    "\n",
    "numbers = [int(x) for x in data]\n",
    "\n",
    "mean_value = statistics.mean(numbers)\n",
    "stdev_value = statistics.stdev(numbers)\n",
    "\n",
    "print(\"Kết quả thống kê:\")\n",
    "print(f\"Trung bình (Mean): {mean_value}\")\n",
    "print(f\"Độ lệch chuẩn (Standard Deviation): {stdev_value}\")\n"
   ]
  },
  {
   "cell_type": "markdown",
   "id": "e2b41d4a",
   "metadata": {},
   "source": [
    "## Lab 8 - Bài 5: bài tập làm thêm"
   ]
  },
  {
   "cell_type": "code",
   "execution_count": null,
   "id": "0e0172f7",
   "metadata": {},
   "outputs": [],
   "source": [
    "# code lab 8  bài làm thêm ở đây "
   ]
  }
 ],
 "metadata": {
  "kernelspec": {
   "display_name": "Python 3",
   "language": "python",
   "name": "python3"
  },
  "language_info": {
   "codemirror_mode": {
    "name": "ipython",
    "version": 3
   },
   "file_extension": ".py",
   "mimetype": "text/x-python",
   "name": "python",
   "nbconvert_exporter": "python",
   "pygments_lexer": "ipython3",
   "version": "3.11.9"
  }
 },
 "nbformat": 4,
 "nbformat_minor": 5
}
